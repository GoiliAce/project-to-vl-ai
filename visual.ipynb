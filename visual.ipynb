{
 "cells": [
  {
   "cell_type": "code",
   "execution_count": null,
   "metadata": {},
   "outputs": [],
   "source": [
    "import pickle\n",
    "timeAl = pickle.load(open('timeAl.dat', 'rb'))\n",
    "a_star = [timeAl[i][0][1] for i in range(len(timeAl))]\n",
    "greedy = [timeAl[i][1][1] for i in range(len(timeAl))]\n",
    "bfs = [timeAl[i][2][1] for i in range(len(timeAl))]\n",
    "dfs = [timeAl[i][3][1] for i in range(len(timeAl))]"
   ]
  },
  {
   "cell_type": "code",
   "execution_count": null,
   "metadata": {},
   "outputs": [],
   "source": [
    "import matplotlib.pyplot as plt\n",
    "plt.figure(figsize=(20, 8))\n",
    "plt.plot(a_star, label='A*')\n",
    "plt.plot(greedy, label='Greedy')\n",
    "plt.plot(bfs, label='BFS')\n",
    "plt.plot(dfs, label='DFS')\n",
    "plt.ylabel(\"Thời gian chạy\")\n",
    "plt.xlabel(\"Lần chạy\")\n",
    "plt.title(\"Bảng so sánh thời gian chạy của 3 thuật toán\")\n",
    "plt.legend()\n",
    "plt.show()"
   ]
  },
  {
   "cell_type": "code",
   "execution_count": null,
   "metadata": {},
   "outputs": [],
   "source": [
    "from turtle import color\n",
    "\n",
    "\n",
    "fig, ax = plt.subplots(figsize=(20, 8), nrows = 4, ncols = 1)\n",
    "ax[0].plot(a_star, label='A*')\n",
    "ax[1].plot(greedy, label='Greedy', color = 'orange')\n",
    "ax[2].plot(bfs, label='BFS', color = 'green')\n",
    "ax[3].plot(dfs, label='DFS', color = 'red')\n",
    "fig.legend()\n",
    "fig.suptitle(\"Bảng so sánh thời gian chạy của 3 thuật toán\", fontsize=16)\n",
    "fig.supylabel(\"Thời gian chạy\")\n",
    "fig.supxlabel(\"Lần chạy\")"
   ]
  }
 ],
 "metadata": {
  "kernelspec": {
   "display_name": "Python 3.10.5 64-bit",
   "language": "python",
   "name": "python3"
  },
  "language_info": {
   "codemirror_mode": {
    "name": "ipython",
    "version": 3
   },
   "file_extension": ".py",
   "mimetype": "text/x-python",
   "name": "python",
   "nbconvert_exporter": "python",
   "pygments_lexer": "ipython3",
   "version": "3.10.5"
  },
  "orig_nbformat": 4,
  "vscode": {
   "interpreter": {
    "hash": "c3b555279560e35935d253fa13dd3912a2c2a738096341f99eb469b76e513c7d"
   }
  }
 },
 "nbformat": 4,
 "nbformat_minor": 2
}
